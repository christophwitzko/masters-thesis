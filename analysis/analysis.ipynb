{
 "cells": [
  {
   "cell_type": "code",
   "execution_count": 8,
   "metadata": {
    "collapsed": true
   },
   "outputs": [],
   "source": [
    "import pandas as pd"
   ]
  },
  {
   "cell_type": "code",
   "execution_count": 19,
   "outputs": [],
   "source": [
    "df_app = pd.concat([\n",
    "  pd.read_csv(f\"./ab-main-main-bootstrap.csv\"),\n",
    "  pd.read_csv(f\"./ab-main-perf-issue-clean-path-bootstrap.csv\"),\n",
    "  pd.read_csv(f\"./ab-main-perf-issue-request-id-bootstrap.csv\"),\n",
    "  pd.read_csv(f\"./ab-main-perf-issue-basic-auth-bootstrap.csv\")\n",
    "])\n",
    "df_mb = pd.concat([\n",
    "    pd.read_csv(f\"./mb-main-main-bootstrap.csv\"),\n",
    "    pd.read_csv(f\"./mb-main-perf-issue-clean-path-bootstrap.csv\"),\n",
    "    pd.read_csv(f\"./mb-main-perf-issue-request-id-bootstrap.csv\"),\n",
    "    pd.read_csv(f\"./mb-main-perf-issue-basic-auth-bootstrap.csv\")\n",
    "])\n",
    "df_mb_opt = pd.concat([\n",
    "    pd.read_csv(f\"./mb-opt-main-main-bootstrap.csv\"),\n",
    "    pd.read_csv(f\"./mb-opt-main-perf-issue-clean-path-bootstrap.csv\"),\n",
    "    pd.read_csv(f\"./mb-opt-main-perf-issue-request-id-bootstrap.csv\"),\n",
    "    pd.read_csv(f\"./mb-opt-main-perf-issue-basic-auth-bootstrap.csv\")\n",
    "])"
   ],
   "metadata": {
    "collapsed": false
   }
  },
  {
   "cell_type": "code",
   "execution_count": 15,
   "outputs": [
    {
     "name": "stdout",
     "output_type": "stream",
     "text": [
      "ab-main-main\n",
      "\t-1.51% [-2.67; -0.40] (GET /destinations)\n",
      "\t-2.20% [-8.61; 4.37] (GET /flights/${id}/seats)\n",
      "\t-2.84% [-3.86; -1.77] (GET /flights?from=${airport})\n",
      "\t-3.32% [-12.02; 6.32] (POST /bookings)\n",
      "ab-main-perf-issue-clean-path\n",
      "\t55.74% [54.19; 57.30] (GET /destinations)\n",
      "\t181.43% [163.72; 203.72] (GET /flights/${id}/seats)\n",
      "\t59.59% [58.04; 61.08] (GET /flights?from=${airport})\n",
      "\t99.41% [82.29; 116.28] (POST /bookings)\n",
      "ab-main-perf-issue-request-id\n",
      "\t354.77% [350.00; 359.72] (GET /destinations)\n",
      "\t509.22% [468.41; 556.47] (GET /flights/${id}/seats)\n",
      "\t295.07% [290.03; 300.17] (GET /flights?from=${airport})\n",
      "\t771.92% [698.98; 845.31] (POST /bookings)\n",
      "ab-main-perf-issue-basic-auth\n",
      "\t11.48% [10.43; 12.55] (GET /destinations)\n",
      "\t21.45% [11.92; 30.82] (GET /flights/${id}/seats)\n",
      "\t10.78% [9.68; 11.83] (GET /flights?from=${airport})\n",
      "\t269.95% [240.61; 298.12] (POST /bookings)\n"
     ]
    }
   ],
   "source": [
    "# app\n",
    "benchmarks = df_app[\"benchmark\"].unique()\n",
    "endpoints = df_app[\"endpoint\"].unique()\n",
    "for b in benchmarks:\n",
    "  print(b)\n",
    "  for e in endpoints:\n",
    "    d = df_app[(df_app[\"benchmark\"] == b) & (df_app[\"endpoint\"] == e)]\n",
    "    change = d.iloc[0][\"change\"]\n",
    "    minci = d.iloc[0][\"minci\"]\n",
    "    maxci = d.iloc[0][\"maxci\"]\n",
    "    print(f\"\\t{change:.2f}% [{minci:.2f}; {maxci:.2f}] ({e})\")\n"
   ],
   "metadata": {
    "collapsed": false
   }
  },
  {
   "cell_type": "code",
   "execution_count": 16,
   "outputs": [
    {
     "data": {
      "text/plain": "                           benchmark                                 benchFn  \\\n0                   mb-opt-main-main  service.BenchmarkHandlerGetFlightSeats   \n1                   mb-opt-main-main   service.BenchmarkRequestCreateBooking   \n2                   mb-opt-main-main    service.BenchmarkRequestDestinations   \n3                   mb-opt-main-main         service.BenchmarkRequestFlights   \n0  mb-opt-main-perf-issue-clean-path  service.BenchmarkHandlerGetFlightSeats   \n1  mb-opt-main-perf-issue-clean-path   service.BenchmarkRequestCreateBooking   \n2  mb-opt-main-perf-issue-clean-path    service.BenchmarkRequestDestinations   \n3  mb-opt-main-perf-issue-clean-path         service.BenchmarkRequestFlights   \n0  mb-opt-main-perf-issue-request-id  service.BenchmarkHandlerGetFlightSeats   \n1  mb-opt-main-perf-issue-request-id   service.BenchmarkRequestCreateBooking   \n2  mb-opt-main-perf-issue-request-id    service.BenchmarkRequestDestinations   \n3  mb-opt-main-perf-issue-request-id         service.BenchmarkRequestFlights   \n0  mb-opt-main-perf-issue-basic-auth  service.BenchmarkHandlerGetFlightSeats   \n1  mb-opt-main-perf-issue-basic-auth   service.BenchmarkRequestCreateBooking   \n2  mb-opt-main-perf-issue-basic-auth    service.BenchmarkRequestDestinations   \n3  mb-opt-main-perf-issue-basic-auth         service.BenchmarkRequestFlights   \n\n        change        minci        maxci  \n0     0.093838    -1.795398     1.758551  \n1     0.036612    -3.877067     3.142310  \n2     0.053905    -1.241411     1.962044  \n3     0.520340    -3.081976     0.675763  \n0     0.120341    -1.685189     1.534221  \n1    -1.035491    -2.883040     0.795271  \n2     0.023674    -2.193929     0.570072  \n3    48.434938    47.435307    52.309448  \n0     0.157625    -1.326302     1.681154  \n1  5499.904131  5400.036879  5575.028317  \n2    42.074174    39.971338    43.318799  \n3   222.251293   218.148917   224.260636  \n0     0.257353    -1.885369     2.094370  \n1  9229.047895  8791.782043  9629.425312  \n2     0.114959    -2.627168     1.760945  \n3     1.757597    -0.406318     3.044813  ",
      "text/html": "<div>\n<style scoped>\n    .dataframe tbody tr th:only-of-type {\n        vertical-align: middle;\n    }\n\n    .dataframe tbody tr th {\n        vertical-align: top;\n    }\n\n    .dataframe thead th {\n        text-align: right;\n    }\n</style>\n<table border=\"1\" class=\"dataframe\">\n  <thead>\n    <tr style=\"text-align: right;\">\n      <th></th>\n      <th>benchmark</th>\n      <th>benchFn</th>\n      <th>change</th>\n      <th>minci</th>\n      <th>maxci</th>\n    </tr>\n  </thead>\n  <tbody>\n    <tr>\n      <th>0</th>\n      <td>mb-opt-main-main</td>\n      <td>service.BenchmarkHandlerGetFlightSeats</td>\n      <td>0.093838</td>\n      <td>-1.795398</td>\n      <td>1.758551</td>\n    </tr>\n    <tr>\n      <th>1</th>\n      <td>mb-opt-main-main</td>\n      <td>service.BenchmarkRequestCreateBooking</td>\n      <td>0.036612</td>\n      <td>-3.877067</td>\n      <td>3.142310</td>\n    </tr>\n    <tr>\n      <th>2</th>\n      <td>mb-opt-main-main</td>\n      <td>service.BenchmarkRequestDestinations</td>\n      <td>0.053905</td>\n      <td>-1.241411</td>\n      <td>1.962044</td>\n    </tr>\n    <tr>\n      <th>3</th>\n      <td>mb-opt-main-main</td>\n      <td>service.BenchmarkRequestFlights</td>\n      <td>0.520340</td>\n      <td>-3.081976</td>\n      <td>0.675763</td>\n    </tr>\n    <tr>\n      <th>0</th>\n      <td>mb-opt-main-perf-issue-clean-path</td>\n      <td>service.BenchmarkHandlerGetFlightSeats</td>\n      <td>0.120341</td>\n      <td>-1.685189</td>\n      <td>1.534221</td>\n    </tr>\n    <tr>\n      <th>1</th>\n      <td>mb-opt-main-perf-issue-clean-path</td>\n      <td>service.BenchmarkRequestCreateBooking</td>\n      <td>-1.035491</td>\n      <td>-2.883040</td>\n      <td>0.795271</td>\n    </tr>\n    <tr>\n      <th>2</th>\n      <td>mb-opt-main-perf-issue-clean-path</td>\n      <td>service.BenchmarkRequestDestinations</td>\n      <td>0.023674</td>\n      <td>-2.193929</td>\n      <td>0.570072</td>\n    </tr>\n    <tr>\n      <th>3</th>\n      <td>mb-opt-main-perf-issue-clean-path</td>\n      <td>service.BenchmarkRequestFlights</td>\n      <td>48.434938</td>\n      <td>47.435307</td>\n      <td>52.309448</td>\n    </tr>\n    <tr>\n      <th>0</th>\n      <td>mb-opt-main-perf-issue-request-id</td>\n      <td>service.BenchmarkHandlerGetFlightSeats</td>\n      <td>0.157625</td>\n      <td>-1.326302</td>\n      <td>1.681154</td>\n    </tr>\n    <tr>\n      <th>1</th>\n      <td>mb-opt-main-perf-issue-request-id</td>\n      <td>service.BenchmarkRequestCreateBooking</td>\n      <td>5499.904131</td>\n      <td>5400.036879</td>\n      <td>5575.028317</td>\n    </tr>\n    <tr>\n      <th>2</th>\n      <td>mb-opt-main-perf-issue-request-id</td>\n      <td>service.BenchmarkRequestDestinations</td>\n      <td>42.074174</td>\n      <td>39.971338</td>\n      <td>43.318799</td>\n    </tr>\n    <tr>\n      <th>3</th>\n      <td>mb-opt-main-perf-issue-request-id</td>\n      <td>service.BenchmarkRequestFlights</td>\n      <td>222.251293</td>\n      <td>218.148917</td>\n      <td>224.260636</td>\n    </tr>\n    <tr>\n      <th>0</th>\n      <td>mb-opt-main-perf-issue-basic-auth</td>\n      <td>service.BenchmarkHandlerGetFlightSeats</td>\n      <td>0.257353</td>\n      <td>-1.885369</td>\n      <td>2.094370</td>\n    </tr>\n    <tr>\n      <th>1</th>\n      <td>mb-opt-main-perf-issue-basic-auth</td>\n      <td>service.BenchmarkRequestCreateBooking</td>\n      <td>9229.047895</td>\n      <td>8791.782043</td>\n      <td>9629.425312</td>\n    </tr>\n    <tr>\n      <th>2</th>\n      <td>mb-opt-main-perf-issue-basic-auth</td>\n      <td>service.BenchmarkRequestDestinations</td>\n      <td>0.114959</td>\n      <td>-2.627168</td>\n      <td>1.760945</td>\n    </tr>\n    <tr>\n      <th>3</th>\n      <td>mb-opt-main-perf-issue-basic-auth</td>\n      <td>service.BenchmarkRequestFlights</td>\n      <td>1.757597</td>\n      <td>-0.406318</td>\n      <td>3.044813</td>\n    </tr>\n  </tbody>\n</table>\n</div>"
     },
     "execution_count": 16,
     "metadata": {},
     "output_type": "execute_result"
    }
   ],
   "source": [],
   "metadata": {
    "collapsed": false
   }
  },
  {
   "cell_type": "code",
   "execution_count": 20,
   "outputs": [
    {
     "name": "stdout",
     "output_type": "stream",
     "text": [
      "mb-opt-main-main\n",
      "\t0.09% [-1.80; 1.76] (service.BenchmarkHandlerGetFlightSeats)\n",
      "\t0.04% [-3.88; 3.14] (service.BenchmarkRequestCreateBooking)\n",
      "\t0.05% [-1.24; 1.96] (service.BenchmarkRequestDestinations)\n",
      "\t0.52% [-3.08; 0.68] (service.BenchmarkRequestFlights)\n",
      "mb-opt-main-perf-issue-clean-path\n",
      "\t0.12% [-1.69; 1.53] (service.BenchmarkHandlerGetFlightSeats)\n",
      "\t-1.04% [-2.88; 0.80] (service.BenchmarkRequestCreateBooking)\n",
      "\t0.02% [-2.19; 0.57] (service.BenchmarkRequestDestinations)\n",
      "\t48.43% [47.44; 52.31] (service.BenchmarkRequestFlights)\n",
      "mb-opt-main-perf-issue-request-id\n",
      "\t0.16% [-1.33; 1.68] (service.BenchmarkHandlerGetFlightSeats)\n",
      "\t5499.90% [5400.04; 5575.03] (service.BenchmarkRequestCreateBooking)\n",
      "\t42.07% [39.97; 43.32] (service.BenchmarkRequestDestinations)\n",
      "\t222.25% [218.15; 224.26] (service.BenchmarkRequestFlights)\n",
      "mb-opt-main-perf-issue-basic-auth\n",
      "\t0.26% [-1.89; 2.09] (service.BenchmarkHandlerGetFlightSeats)\n",
      "\t9229.05% [8791.78; 9629.43] (service.BenchmarkRequestCreateBooking)\n",
      "\t0.11% [-2.63; 1.76] (service.BenchmarkRequestDestinations)\n",
      "\t1.76% [-0.41; 3.04] (service.BenchmarkRequestFlights)\n"
     ]
    }
   ],
   "source": [
    "# mb-opt\n",
    "benchmarks = df_mb_opt[\"benchmark\"].unique()\n",
    "benchFns = df_mb_opt[\"benchFn\"].unique()\n",
    "for b in benchmarks:\n",
    "    print(b)\n",
    "    for e in benchFns:\n",
    "        d = df_mb_opt[(df_mb_opt[\"benchmark\"] == b) & (df_mb_opt[\"benchFn\"] == e)]\n",
    "        change = d.iloc[0][\"change\"]\n",
    "        minci = d.iloc[0][\"minci\"]\n",
    "        maxci = d.iloc[0][\"maxci\"]\n",
    "        print(f\"\\t{change:.2f}% [{minci:.2f}; {maxci:.2f}] ({e})\")"
   ],
   "metadata": {
    "collapsed": false
   }
  },
  {
   "cell_type": "code",
   "execution_count": 22,
   "outputs": [
    {
     "name": "stdout",
     "output_type": "stream",
     "text": [
      "mb-main-main\n",
      "\t0.10% [-3.07; 3.38] (service.BenchmarkRequestBookings)\n",
      "\t0.17% [-1.20; 4.13] (service.BenchmarkRequestCreateBooking)\n",
      "\t0.22% [-1.99; 2.41] (service.BenchmarkRequestDestinations)\n",
      "\t-0.49% [-3.26; 0.76] (service.BenchmarkRequestFlight)\n",
      "\t-0.10% [-2.05; 2.37] (service.BenchmarkRequestFlights)\n",
      "\t0.04% [-2.38; 1.56] (service.BenchmarkRequestFlightsQuery)\n",
      "\t-0.45% [-1.80; 1.74] (service.BenchmarkRequestSeats)\n",
      "mb-main-perf-issue-clean-path\n",
      "\t-0.13% [-2.50; 4.20] (service.BenchmarkRequestBookings)\n",
      "\t-1.21% [-3.94; 1.79] (service.BenchmarkRequestCreateBooking)\n",
      "\t-0.19% [-2.29; 2.26] (service.BenchmarkRequestDestinations)\n",
      "\t39212.50% [38749.89; 39696.21] (service.BenchmarkRequestFlight)\n",
      "\t48.26% [46.02; 54.59] (service.BenchmarkRequestFlights)\n",
      "\t8.95% [6.76; 14.54] (service.BenchmarkRequestFlightsQuery)\n",
      "\t294.20% [287.95; 305.08] (service.BenchmarkRequestSeats)\n",
      "mb-main-perf-issue-request-id\n",
      "\t415.75% [393.39; 419.93] (service.BenchmarkRequestBookings)\n",
      "\t5467.31% [5406.19; 5647.13] (service.BenchmarkRequestCreateBooking)\n",
      "\t41.83% [40.05; 42.68] (service.BenchmarkRequestDestinations)\n",
      "\t41660.76% [40616.21; 42561.34] (service.BenchmarkRequestFlight)\n",
      "\t220.67% [214.38; 226.75] (service.BenchmarkRequestFlights)\n",
      "\t44.48% [43.09; 45.60] (service.BenchmarkRequestFlightsQuery)\n",
      "\t268.85% [262.13; 273.09] (service.BenchmarkRequestSeats)\n",
      "mb-main-perf-issue-basic-auth\n",
      "\t670.15% [655.76; 718.54] (service.BenchmarkRequestBookings)\n",
      "\t9328.87% [8451.43; 9533.09] (service.BenchmarkRequestCreateBooking)\n",
      "\t-0.16% [-2.01; 1.78] (service.BenchmarkRequestDestinations)\n",
      "\t1.15% [-0.22; 3.86] (service.BenchmarkRequestFlight)\n",
      "\t0.49% [-1.85; 1.38] (service.BenchmarkRequestFlights)\n",
      "\t0.63% [-1.53; 2.23] (service.BenchmarkRequestFlightsQuery)\n",
      "\t-0.83% [-1.60; 1.33] (service.BenchmarkRequestSeats)\n"
     ]
    }
   ],
   "source": [
    "# mb\n",
    "benchmarks = df_mb[\"benchmark\"].unique()\n",
    "benchFns = df_mb[\"benchFn\"].unique()\n",
    "for b in benchmarks:\n",
    "    print(b)\n",
    "    for e in benchFns:\n",
    "        if not e.startswith(\"service.BenchmarkRequest\"): continue\n",
    "        d = df_mb[(df_mb[\"benchmark\"] == b) & (df_mb[\"benchFn\"] == e)]\n",
    "        change = d.iloc[0][\"change\"]\n",
    "        minci = d.iloc[0][\"minci\"]\n",
    "        maxci = d.iloc[0][\"maxci\"]\n",
    "        print(f\"\\t{change:.2f}% [{minci:.2f}; {maxci:.2f}] ({e})\")"
   ],
   "metadata": {
    "collapsed": false
   }
  },
  {
   "cell_type": "code",
   "execution_count": null,
   "outputs": [],
   "source": [],
   "metadata": {
    "collapsed": false
   }
  }
 ],
 "metadata": {
  "kernelspec": {
   "display_name": "Python 3",
   "language": "python",
   "name": "python3"
  },
  "language_info": {
   "codemirror_mode": {
    "name": "ipython",
    "version": 2
   },
   "file_extension": ".py",
   "mimetype": "text/x-python",
   "name": "python",
   "nbconvert_exporter": "python",
   "pygments_lexer": "ipython2",
   "version": "2.7.6"
  }
 },
 "nbformat": 4,
 "nbformat_minor": 0
}
