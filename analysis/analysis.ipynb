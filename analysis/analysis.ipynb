{
 "cells": [
  {
   "cell_type": "code",
   "execution_count": 4,
   "metadata": {
    "collapsed": true
   },
   "outputs": [],
   "source": [
    "import pandas as pd"
   ]
  },
  {
   "cell_type": "code",
   "execution_count": 5,
   "outputs": [],
   "source": [
    "df_app = pd.concat([\n",
    "  pd.read_csv(f\"./ab-main-main-bootstrap.csv\"),\n",
    "  pd.read_csv(f\"./ab-main-perf-issue-clean-path-bootstrap.csv\"),\n",
    "  pd.read_csv(f\"./ab-main-perf-issue-request-id-bootstrap.csv\"),\n",
    "  pd.read_csv(f\"./ab-main-perf-issue-basic-auth-bootstrap.csv\")\n",
    "])\n",
    "df_mb = pd.concat([\n",
    "    pd.read_csv(f\"./mb-main-main-bootstrap.csv\"),\n",
    "    pd.read_csv(f\"./mb-main-perf-issue-clean-path-bootstrap.csv\"),\n",
    "    pd.read_csv(f\"./mb-main-perf-issue-request-id-bootstrap.csv\"),\n",
    "    pd.read_csv(f\"./mb-main-perf-issue-basic-auth-bootstrap.csv\")\n",
    "])\n",
    "df_mb_opt = pd.concat([\n",
    "    pd.read_csv(f\"./mb-opt-main-main-bootstrap.csv\"),\n",
    "    pd.read_csv(f\"./mb-opt-main-perf-issue-clean-path-bootstrap.csv\"),\n",
    "    pd.read_csv(f\"./mb-opt-main-perf-issue-request-id-bootstrap.csv\"),\n",
    "    pd.read_csv(f\"./mb-opt-main-perf-issue-basic-auth-bootstrap.csv\")\n",
    "])"
   ],
   "metadata": {
    "collapsed": false
   }
  },
  {
   "cell_type": "code",
   "execution_count": 6,
   "outputs": [
    {
     "name": "stdout",
     "output_type": "stream",
     "text": [
      "ab-main-main\n",
      "\t-1.51% [-2.67; -0.40] (GET /destinations)\n",
      "\t-2.20% [-8.61; 4.37] (GET /flights/${id}/seats)\n",
      "\t-2.84% [-3.86; -1.77] (GET /flights?from=${airport})\n",
      "\t-3.32% [-12.02; 6.32] (POST /bookings)\n",
      "ab-main-perf-issue-clean-path\n",
      "\t55.74% [54.19; 57.30] (GET /destinations)\n",
      "\t181.43% [163.72; 203.72] (GET /flights/${id}/seats)\n",
      "\t59.59% [58.04; 61.08] (GET /flights?from=${airport})\n",
      "\t99.41% [82.29; 116.28] (POST /bookings)\n",
      "ab-main-perf-issue-request-id\n",
      "\t354.77% [350.00; 359.72] (GET /destinations)\n",
      "\t509.22% [468.41; 556.47] (GET /flights/${id}/seats)\n",
      "\t295.07% [290.03; 300.17] (GET /flights?from=${airport})\n",
      "\t771.92% [698.98; 845.31] (POST /bookings)\n",
      "ab-main-perf-issue-basic-auth\n",
      "\t11.48% [10.43; 12.55] (GET /destinations)\n",
      "\t21.45% [11.92; 30.82] (GET /flights/${id}/seats)\n",
      "\t10.78% [9.68; 11.83] (GET /flights?from=${airport})\n",
      "\t269.95% [240.61; 298.12] (POST /bookings)\n"
     ]
    }
   ],
   "source": [
    "# app\n",
    "benchmarks = df_app[\"benchmark\"].unique()\n",
    "endpoints = df_app[\"endpoint\"].unique()\n",
    "for b in benchmarks:\n",
    "  print(b)\n",
    "  for e in endpoints:\n",
    "    d = df_app[(df_app[\"benchmark\"] == b) & (df_app[\"endpoint\"] == e)]\n",
    "    change = d.iloc[0][\"change\"]\n",
    "    minci = d.iloc[0][\"minci\"]\n",
    "    maxci = d.iloc[0][\"maxci\"]\n",
    "    print(f\"\\t{change:.2f}% [{minci:.2f}; {maxci:.2f}] ({e})\")\n"
   ],
   "metadata": {
    "collapsed": false
   }
  },
  {
   "cell_type": "code",
   "execution_count": 6,
   "outputs": [],
   "source": [],
   "metadata": {
    "collapsed": false
   }
  },
  {
   "cell_type": "code",
   "execution_count": 11,
   "outputs": [
    {
     "name": "stdout",
     "output_type": "stream",
     "text": [
      "mb-opt-main-main\n",
      "\t0.09% [-1.80; 1.76] (3.55) (service.BenchmarkHandlerGetFlightSeats)\n",
      "\t0.04% [-3.88; 3.14] (7.02) (service.BenchmarkRequestCreateBooking)\n",
      "\t0.05% [-1.24; 1.96] (3.20) (service.BenchmarkRequestDestinations)\n",
      "\t0.52% [-3.08; 0.68] (3.76) (service.BenchmarkRequestFlights)\n",
      "mb-opt-main-perf-issue-clean-path\n",
      "\t0.12% [-1.69; 1.53] (3.22) (service.BenchmarkHandlerGetFlightSeats)\n",
      "\t-1.04% [-2.88; 0.80] (3.68) (service.BenchmarkRequestCreateBooking)\n",
      "\t0.02% [-2.19; 0.57] (2.76) (service.BenchmarkRequestDestinations)\n",
      "\t48.43% [47.44; 52.31] (4.87) (service.BenchmarkRequestFlights)\n",
      "mb-opt-main-perf-issue-request-id\n",
      "\t0.16% [-1.33; 1.68] (3.01) (service.BenchmarkHandlerGetFlightSeats)\n",
      "\t5499.90% [5400.04; 5575.03] (174.99) (service.BenchmarkRequestCreateBooking)\n",
      "\t42.07% [39.97; 43.32] (3.35) (service.BenchmarkRequestDestinations)\n",
      "\t222.25% [218.15; 224.26] (6.11) (service.BenchmarkRequestFlights)\n",
      "mb-opt-main-perf-issue-basic-auth\n",
      "\t0.26% [-1.89; 2.09] (3.98) (service.BenchmarkHandlerGetFlightSeats)\n",
      "\t9229.05% [8791.78; 9629.43] (837.64) (service.BenchmarkRequestCreateBooking)\n",
      "\t0.11% [-2.63; 1.76] (4.39) (service.BenchmarkRequestDestinations)\n",
      "\t1.76% [-0.41; 3.04] (3.45) (service.BenchmarkRequestFlights)\n"
     ]
    }
   ],
   "source": [
    "# mb-opt\n",
    "benchmarks = df_mb_opt[\"benchmark\"].unique()\n",
    "benchFns = df_mb_opt[\"benchFn\"].unique()\n",
    "for b in benchmarks:\n",
    "    print(b)\n",
    "    for e in benchFns:\n",
    "        d = df_mb_opt[(df_mb_opt[\"benchmark\"] == b) & (df_mb_opt[\"benchFn\"] == e)]\n",
    "        change = d.iloc[0][\"change\"]\n",
    "        minci = d.iloc[0][\"minci\"]\n",
    "        maxci = d.iloc[0][\"maxci\"]\n",
    "        inst = maxci - minci\n",
    "        print(f\"\\t{change:.2f}% [{minci:.2f}; {maxci:.2f}] ({inst:.2f}) ({e})\")"
   ],
   "metadata": {
    "collapsed": false
   }
  },
  {
   "cell_type": "code",
   "execution_count": 10,
   "outputs": [
    {
     "name": "stdout",
     "output_type": "stream",
     "text": [
      "mb-main-main\n",
      "\t0.10% [-3.07; 3.38] (6.45) (service.BenchmarkRequestBookings)\n",
      "\t0.17% [-1.20; 4.13] (5.33) (service.BenchmarkRequestCreateBooking)\n",
      "\t0.22% [-1.99; 2.41] (4.40) (service.BenchmarkRequestDestinations)\n",
      "\t-0.49% [-3.26; 0.76] (4.02) (service.BenchmarkRequestFlight)\n",
      "\t-0.10% [-2.05; 2.37] (4.42) (service.BenchmarkRequestFlights)\n",
      "\t0.04% [-2.38; 1.56] (3.94) (service.BenchmarkRequestFlightsQuery)\n",
      "\t-0.45% [-1.80; 1.74] (3.54) (service.BenchmarkRequestSeats)\n",
      "mb-main-perf-issue-clean-path\n",
      "\t-0.13% [-2.50; 4.20] (6.70) (service.BenchmarkRequestBookings)\n",
      "\t-1.21% [-3.94; 1.79] (5.73) (service.BenchmarkRequestCreateBooking)\n",
      "\t-0.19% [-2.29; 2.26] (4.55) (service.BenchmarkRequestDestinations)\n",
      "\t39212.50% [38749.89; 39696.21] (946.32) (service.BenchmarkRequestFlight)\n",
      "\t48.26% [46.02; 54.59] (8.57) (service.BenchmarkRequestFlights)\n",
      "\t8.95% [6.76; 14.54] (7.78) (service.BenchmarkRequestFlightsQuery)\n",
      "\t294.20% [287.95; 305.08] (17.13) (service.BenchmarkRequestSeats)\n",
      "mb-main-perf-issue-request-id\n",
      "\t415.75% [393.39; 419.93] (26.54) (service.BenchmarkRequestBookings)\n",
      "\t5467.31% [5406.19; 5647.13] (240.94) (service.BenchmarkRequestCreateBooking)\n",
      "\t41.83% [40.05; 42.68] (2.63) (service.BenchmarkRequestDestinations)\n",
      "\t41660.76% [40616.21; 42561.34] (1945.13) (service.BenchmarkRequestFlight)\n",
      "\t220.67% [214.38; 226.75] (12.37) (service.BenchmarkRequestFlights)\n",
      "\t44.48% [43.09; 45.60] (2.51) (service.BenchmarkRequestFlightsQuery)\n",
      "\t268.85% [262.13; 273.09] (10.96) (service.BenchmarkRequestSeats)\n",
      "mb-main-perf-issue-basic-auth\n",
      "\t670.15% [655.76; 718.54] (62.78) (service.BenchmarkRequestBookings)\n",
      "\t9328.87% [8451.43; 9533.09] (1081.66) (service.BenchmarkRequestCreateBooking)\n",
      "\t-0.16% [-2.01; 1.78] (3.79) (service.BenchmarkRequestDestinations)\n",
      "\t1.15% [-0.22; 3.86] (4.08) (service.BenchmarkRequestFlight)\n",
      "\t0.49% [-1.85; 1.38] (3.23) (service.BenchmarkRequestFlights)\n",
      "\t0.63% [-1.53; 2.23] (3.75) (service.BenchmarkRequestFlightsQuery)\n",
      "\t-0.83% [-1.60; 1.33] (2.93) (service.BenchmarkRequestSeats)\n"
     ]
    }
   ],
   "source": [
    "# mb\n",
    "benchmarks = df_mb[\"benchmark\"].unique()\n",
    "benchFns = df_mb[\"benchFn\"].unique()\n",
    "for b in benchmarks:\n",
    "    print(b)\n",
    "    for e in benchFns:\n",
    "        if not e.startswith(\"service.BenchmarkRequest\"): continue\n",
    "        d = df_mb[(df_mb[\"benchmark\"] == b) & (df_mb[\"benchFn\"] == e)]\n",
    "        change = d.iloc[0][\"change\"]\n",
    "        minci = d.iloc[0][\"minci\"]\n",
    "        maxci = d.iloc[0][\"maxci\"]\n",
    "        inst = maxci - minci\n",
    "        print(f\"\\t{change:.2f}% [{minci:.2f}; {maxci:.2f}] ({inst:.2f}) ({e})\")"
   ],
   "metadata": {
    "collapsed": false
   }
  },
  {
   "cell_type": "code",
   "execution_count": null,
   "outputs": [],
   "source": [],
   "metadata": {
    "collapsed": false
   }
  }
 ],
 "metadata": {
  "kernelspec": {
   "display_name": "Python 3",
   "language": "python",
   "name": "python3"
  },
  "language_info": {
   "codemirror_mode": {
    "name": "ipython",
    "version": 2
   },
   "file_extension": ".py",
   "mimetype": "text/x-python",
   "name": "python",
   "nbconvert_exporter": "python",
   "pygments_lexer": "ipython2",
   "version": "2.7.6"
  }
 },
 "nbformat": 4,
 "nbformat_minor": 0
}
