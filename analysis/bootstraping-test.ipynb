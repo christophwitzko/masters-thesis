{
 "cells": [
  {
   "cell_type": "code",
   "execution_count": 1,
   "outputs": [],
   "source": [
    "import numpy as np\n",
    "import pandas as pd\n",
    "from numpy.random import default_rng\n",
    "rng = default_rng()\n",
    "\n",
    "def bootstrap(perfRuntimes1: pd.DataFrame, perfRuntimes2: pd.DataFrame):\n",
    "  numberOfIterations = 5\n",
    "  instanceRunsNumber = 3\n",
    "  instanceRuns = range(1, instanceRunsNumber)\n",
    "  suiteRunsNumber = 3\n",
    "  suiteRuns = range(1,suiteRunsNumber)\n",
    "  numberOfSamples = 10000\n",
    "  allRuntimes1 = np.ndarray((instanceRunsNumber, suiteRunsNumber, numberOfIterations))\n",
    "  allRuntimes2 = np.ndarray((instanceRunsNumber, suiteRunsNumber, numberOfIterations))\n",
    "\n",
    "  for instanceRun in instanceRuns:\n",
    "    for suiteRun in suiteRuns:\n",
    "        prefix = f\"{instanceRun}-{suiteRun}-\"\n",
    "        allRuntimes1[instanceRun][suiteRun] = perfRuntimes1.loc[(perfRuntimes1['R-S-I'].str.startswith(prefix)),'sec/op'].to_numpy()\n",
    "        allRuntimes2[instanceRun][suiteRun] = perfRuntimes2.loc[(perfRuntimes2['R-S-I'].str.startswith(prefix)),'sec/op'].to_numpy()\n",
    "\n",
    "  #Generate random arrays\n",
    "  currentInstanceRun = rng.choice(instanceRuns, size=(instanceRunsNumber, numberOfSamples))\n",
    "  currentSuiteRun = rng.choice(suiteRuns, size=(suiteRunsNumber, instanceRunsNumber, numberOfSamples))\n",
    "  currentRuntimes1 = rng.integers(numberOfIterations, size=(numberOfIterations, suiteRunsNumber, instanceRunsNumber, numberOfSamples))\n",
    "  currentRuntimes2 = rng.integers(numberOfIterations, size=(numberOfIterations, suiteRunsNumber, instanceRunsNumber, numberOfSamples))\n",
    "\n",
    "  #Bulk selection\n",
    "  tmp1 = allRuntimes1[currentInstanceRun, currentSuiteRun, currentRuntimes1]\n",
    "  tmp1 = np.stack(tmp1, axis=3).reshape((numberOfSamples, suiteRunsNumber * instanceRunsNumber * numberOfIterations))\n",
    "  tmp2 = allRuntimes2[currentInstanceRun, currentSuiteRun, currentRuntimes2]\n",
    "  tmp2 = np.stack(tmp2, axis=3).reshape((numberOfSamples, suiteRunsNumber * instanceRunsNumber * numberOfIterations))\n",
    "\n",
    "  # Get median for both lists\n",
    "  med1 = np.median(tmp1, axis=1)\n",
    "  med2 = np.median(tmp2, axis=1)\n",
    "  R = med2/med1\n",
    "  R.sort()\n",
    "\n",
    "  CIsmall = 1 # 99% confidence interval\n",
    "  small = int((numberOfSamples * CIsmall) / 100 / 2)\n",
    "  if small == 0: small = 1\n",
    "  minSmall = R[small-1]\n",
    "  minSmall = (minSmall - 1) * 100\n",
    "  maxSmall = R[numberOfSamples-small-1]\n",
    "  maxSmall = (maxSmall - 1) * 100\n",
    "  instability = maxSmall - minSmall\n",
    "  return minSmall, maxSmall, instability"
   ],
   "metadata": {
    "collapsed": false,
    "pycharm": {
     "name": "#%%\n"
    }
   }
  },
  {
   "cell_type": "code",
   "execution_count": 2,
   "outputs": [],
   "source": [
    "def compareVersionsForBenchmark(fnName: str):\n",
    "    foundBenchmark = df[df[\"package.BenchmarkFunction\"] == fnName]\n",
    "    runtimes1 = foundBenchmark[foundBenchmark[\"Version\"] == 1]\n",
    "    runtimes2 = foundBenchmark[foundBenchmark[\"Version\"] == 2]\n",
    "    assert runtimes1.shape[0] == 45\n",
    "    assert runtimes2.shape[0] == 45\n",
    "    median1 = runtimes1['sec/op'].median()\n",
    "    median2 = runtimes2['sec/op'].median()\n",
    "    change = ((median2/median1) - 1) * 100\n",
    "    minci, maxci, instability = bootstrap(runtimes1, runtimes2)\n",
    "    assert maxci > change\n",
    "    assert change > minci\n",
    "    print(f\"[{fnName}] performance change: {change:.2f}% [{minci:.2f} - {maxci:.2f}] ({instability:.2f}%)\")"
   ],
   "metadata": {
    "collapsed": false,
    "pycharm": {
     "name": "#%%\n"
    }
   }
  },
  {
   "cell_type": "code",
   "execution_count": 3,
   "outputs": [
    {
     "data": {
      "text/plain": "      R-S-I      package.BenchmarkFunction  Version  \\\n0     1-1-1         service.BenchmarkSeats        1   \n1     1-1-2         service.BenchmarkSeats        1   \n2     1-1-3         service.BenchmarkSeats        1   \n3     1-1-4         service.BenchmarkSeats        1   \n4     1-1-5         service.BenchmarkSeats        1   \n...     ...                            ...      ...   \n1525  3-3-1  database.BenchmarkGetGenerics        2   \n1526  3-3-2  database.BenchmarkGetGenerics        2   \n1527  3-3-3  database.BenchmarkGetGenerics        2   \n1528  3-3-4  database.BenchmarkGetGenerics        2   \n1529  3-3-5  database.BenchmarkGetGenerics        2   \n\n                          Directory  Iterations    sec/op    B/op  allocs/op  \n0       pkg/service/service_test.go         996  0.001143  143873       2546  \n1       pkg/service/service_test.go        1113  0.001178  142185       2548  \n2       pkg/service/service_test.go        1159  0.001039  159852       2550  \n3       pkg/service/service_test.go        1185  0.001015  159470       2551  \n4       pkg/service/service_test.go        1243  0.001057  158374       2553  \n...                             ...         ...       ...     ...        ...  \n1525  pkg/database/database_test.go      206389  0.000006    1058         21  \n1526  pkg/database/database_test.go      225082  0.000006    1061         21  \n1527  pkg/database/database_test.go      200872  0.000006    1064         21  \n1528  pkg/database/database_test.go      222974  0.000006    1070         21  \n1529  pkg/database/database_test.go      209076  0.000005    1071         21  \n\n[1530 rows x 8 columns]",
      "text/html": "<div>\n<style scoped>\n    .dataframe tbody tr th:only-of-type {\n        vertical-align: middle;\n    }\n\n    .dataframe tbody tr th {\n        vertical-align: top;\n    }\n\n    .dataframe thead th {\n        text-align: right;\n    }\n</style>\n<table border=\"1\" class=\"dataframe\">\n  <thead>\n    <tr style=\"text-align: right;\">\n      <th></th>\n      <th>R-S-I</th>\n      <th>package.BenchmarkFunction</th>\n      <th>Version</th>\n      <th>Directory</th>\n      <th>Iterations</th>\n      <th>sec/op</th>\n      <th>B/op</th>\n      <th>allocs/op</th>\n    </tr>\n  </thead>\n  <tbody>\n    <tr>\n      <th>0</th>\n      <td>1-1-1</td>\n      <td>service.BenchmarkSeats</td>\n      <td>1</td>\n      <td>pkg/service/service_test.go</td>\n      <td>996</td>\n      <td>0.001143</td>\n      <td>143873</td>\n      <td>2546</td>\n    </tr>\n    <tr>\n      <th>1</th>\n      <td>1-1-2</td>\n      <td>service.BenchmarkSeats</td>\n      <td>1</td>\n      <td>pkg/service/service_test.go</td>\n      <td>1113</td>\n      <td>0.001178</td>\n      <td>142185</td>\n      <td>2548</td>\n    </tr>\n    <tr>\n      <th>2</th>\n      <td>1-1-3</td>\n      <td>service.BenchmarkSeats</td>\n      <td>1</td>\n      <td>pkg/service/service_test.go</td>\n      <td>1159</td>\n      <td>0.001039</td>\n      <td>159852</td>\n      <td>2550</td>\n    </tr>\n    <tr>\n      <th>3</th>\n      <td>1-1-4</td>\n      <td>service.BenchmarkSeats</td>\n      <td>1</td>\n      <td>pkg/service/service_test.go</td>\n      <td>1185</td>\n      <td>0.001015</td>\n      <td>159470</td>\n      <td>2551</td>\n    </tr>\n    <tr>\n      <th>4</th>\n      <td>1-1-5</td>\n      <td>service.BenchmarkSeats</td>\n      <td>1</td>\n      <td>pkg/service/service_test.go</td>\n      <td>1243</td>\n      <td>0.001057</td>\n      <td>158374</td>\n      <td>2553</td>\n    </tr>\n    <tr>\n      <th>...</th>\n      <td>...</td>\n      <td>...</td>\n      <td>...</td>\n      <td>...</td>\n      <td>...</td>\n      <td>...</td>\n      <td>...</td>\n      <td>...</td>\n    </tr>\n    <tr>\n      <th>1525</th>\n      <td>3-3-1</td>\n      <td>database.BenchmarkGetGenerics</td>\n      <td>2</td>\n      <td>pkg/database/database_test.go</td>\n      <td>206389</td>\n      <td>0.000006</td>\n      <td>1058</td>\n      <td>21</td>\n    </tr>\n    <tr>\n      <th>1526</th>\n      <td>3-3-2</td>\n      <td>database.BenchmarkGetGenerics</td>\n      <td>2</td>\n      <td>pkg/database/database_test.go</td>\n      <td>225082</td>\n      <td>0.000006</td>\n      <td>1061</td>\n      <td>21</td>\n    </tr>\n    <tr>\n      <th>1527</th>\n      <td>3-3-3</td>\n      <td>database.BenchmarkGetGenerics</td>\n      <td>2</td>\n      <td>pkg/database/database_test.go</td>\n      <td>200872</td>\n      <td>0.000006</td>\n      <td>1064</td>\n      <td>21</td>\n    </tr>\n    <tr>\n      <th>1528</th>\n      <td>3-3-4</td>\n      <td>database.BenchmarkGetGenerics</td>\n      <td>2</td>\n      <td>pkg/database/database_test.go</td>\n      <td>222974</td>\n      <td>0.000006</td>\n      <td>1070</td>\n      <td>21</td>\n    </tr>\n    <tr>\n      <th>1529</th>\n      <td>3-3-5</td>\n      <td>database.BenchmarkGetGenerics</td>\n      <td>2</td>\n      <td>pkg/database/database_test.go</td>\n      <td>209076</td>\n      <td>0.000005</td>\n      <td>1071</td>\n      <td>21</td>\n    </tr>\n  </tbody>\n</table>\n<p>1530 rows × 8 columns</p>\n</div>"
     },
     "execution_count": 3,
     "metadata": {},
     "output_type": "execute_result"
    }
   ],
   "source": [
    "df = pd.read_csv(\"../results.csv\", names=[\"R-S-I\", \"package.BenchmarkFunction\", \"Version\", \"Directory\", \"Iterations\", \"sec/op\", \"B/op\", \"allocs/op\"])\n",
    "\n",
    "df"
   ],
   "metadata": {
    "collapsed": false,
    "pycharm": {
     "name": "#%%\n"
    }
   }
  },
  {
   "cell_type": "markdown",
   "source": [],
   "metadata": {
    "collapsed": false,
    "pycharm": {
     "name": "#%% md\n"
    }
   }
  },
  {
   "cell_type": "code",
   "execution_count": 4,
   "outputs": [
    {
     "name": "stdout",
     "output_type": "stream",
     "text": [
      "[service.BenchmarkSeats] performance change: -1.27% [-5.65 - 4.53] (10.18%)\n",
      "[service.BenchmarkHandlerGetBookings] performance change: -0.10% [-4.02 - 4.68] (8.70%)\n",
      "[service.BenchmarkHandlerGetFlightsQuery] performance change: -0.69% [-3.40 - 6.92] (10.32%)\n",
      "[database.BenchmarkPut] performance change: 0.49% [-6.16 - 5.66] (11.83%)\n",
      "[database.BenchmarkGetGenerics] performance change: 0.36% [-8.05 - 4.96] (13.02%)\n",
      "[service.BenchmarkHandlerGetFlight] performance change: -0.73% [-4.87 - 2.49] (7.36%)\n",
      "[service.BenchmarkHandlerGetFlightSeats] performance change: 0.01% [-3.49 - 3.95] (7.44%)\n",
      "[service.BenchmarkHandlerCreateBooking] performance change: 1.17% [-5.14 - 4.84] (9.98%)\n",
      "[service.BenchmarkFlights] performance change: -1.26% [-10.93 - 1.38] (12.31%)\n",
      "[service.BenchmarkHandlerGetDestinations] performance change: -0.72% [-4.21 - 3.50] (7.71%)\n",
      "[database.BenchmarkValues] performance change: 0.31% [-4.70 - 7.63] (12.33%)\n",
      "[service.BenchmarkHandlerGetFlights] performance change: -0.73% [-4.48 - 4.26] (8.74%)\n",
      "[database.BenchmarkRawValues] performance change: 0.11% [-4.12 - 2.91] (7.03%)\n",
      "[database.BenchmarkValuesGenerics] performance change: -0.00% [-5.33 - 8.49] (13.82%)\n",
      "[database.BenchmarkRawGet] performance change: -0.85% [-5.45 - 4.75] (10.21%)\n",
      "[service.BenchmarkFlight] performance change: -1.34% [-5.42 - 10.31] (15.73%)\n",
      "[database.BenchmarkGet] performance change: -0.71% [-7.46 - 8.47] (15.93%)\n"
     ]
    }
   ],
   "source": [
    "for fnName in df[\"package.BenchmarkFunction\"].unique():\n",
    "    compareVersionsForBenchmark(fnName)"
   ],
   "metadata": {
    "collapsed": false,
    "pycharm": {
     "name": "#%%\n"
    }
   }
  },
  {
   "cell_type": "code",
   "execution_count": 4,
   "outputs": [],
   "source": [],
   "metadata": {
    "collapsed": false,
    "pycharm": {
     "name": "#%%\n"
    }
   }
  },
  {
   "cell_type": "code",
   "execution_count": 5,
   "outputs": [
    {
     "name": "stdout",
     "output_type": "stream",
     "text": [
      "[main.BenchmarkValidateOrderNumber] performance change: -90.36% [-90.46 - -90.15] (0.30%)\n"
     ]
    }
   ],
   "source": [
    "compareVersionsForBenchmark(\"main.BenchmarkValidateOrderNumber\")"
   ],
   "metadata": {
    "collapsed": false,
    "pycharm": {
     "name": "#%%\n"
    }
   }
  },
  {
   "cell_type": "code",
   "execution_count": null,
   "outputs": [],
   "source": [],
   "metadata": {
    "collapsed": false,
    "pycharm": {
     "name": "#%%\n"
    }
   }
  }
 ],
 "metadata": {
  "kernelspec": {
   "display_name": "Python 3 (ipykernel)",
   "language": "python",
   "name": "python3"
  },
  "language_info": {
   "codemirror_mode": {
    "name": "ipython",
    "version": 3
   },
   "file_extension": ".py",
   "mimetype": "text/x-python",
   "name": "python",
   "nbconvert_exporter": "python",
   "pygments_lexer": "ipython3",
   "version": "3.9.13"
  }
 },
 "nbformat": 4,
 "nbformat_minor": 5
}