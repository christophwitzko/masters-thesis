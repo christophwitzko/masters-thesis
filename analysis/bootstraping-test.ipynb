{
 "cells": [
  {
   "cell_type": "code",
   "execution_count": 1,
   "outputs": [],
   "source": [
    "import numpy as np\n",
    "import pandas as pd\n",
    "from numpy.random import default_rng\n",
    "rng = default_rng()\n",
    "\n",
    "def bootstrap(perfRuntimes1: pd.DataFrame, perfRuntimes2: pd.DataFrame):\n",
    "  numberOfIterations = 5\n",
    "  instanceRunsNumber = 3\n",
    "  instanceRuns = range(1, instanceRunsNumber)\n",
    "  suiteRunsNumber = 3\n",
    "  suiteRuns = range(1,suiteRunsNumber)\n",
    "  numberOfSamples = 10000\n",
    "  allRuntimes1 = np.ndarray((instanceRunsNumber, suiteRunsNumber, numberOfIterations))\n",
    "  allRuntimes2 = np.ndarray((instanceRunsNumber, suiteRunsNumber, numberOfIterations))\n",
    "\n",
    "  for instanceRun in instanceRuns:\n",
    "    for suiteRun in suiteRuns:\n",
    "        prefix = f\"{instanceRun}-{suiteRun}-\"\n",
    "        allRuntimes1[instanceRun][suiteRun] = perfRuntimes1.loc[(perfRuntimes1['R-S-I'].str.startswith(prefix)),'sec/op'].to_numpy()\n",
    "        allRuntimes2[instanceRun][suiteRun] = perfRuntimes2.loc[(perfRuntimes2['R-S-I'].str.startswith(prefix)),'sec/op'].to_numpy()\n",
    "\n",
    "  #Generate random arrays\n",
    "  currentInstanceRun = rng.choice(instanceRuns, size=(instanceRunsNumber, numberOfSamples))\n",
    "  currentSuiteRun = rng.choice(suiteRuns, size=(suiteRunsNumber, instanceRunsNumber, numberOfSamples))\n",
    "  currentRuntimes1 = rng.integers(numberOfIterations, size=(numberOfIterations, suiteRunsNumber, instanceRunsNumber, numberOfSamples))\n",
    "  currentRuntimes2 = rng.integers(numberOfIterations, size=(numberOfIterations, suiteRunsNumber, instanceRunsNumber, numberOfSamples))\n",
    "\n",
    "  #Bulk selection\n",
    "  tmp1 = allRuntimes1[currentInstanceRun, currentSuiteRun, currentRuntimes1]\n",
    "  tmp1 = np.stack(tmp1, axis=3).reshape((numberOfSamples, suiteRunsNumber * instanceRunsNumber * numberOfIterations))\n",
    "  tmp2 = allRuntimes2[currentInstanceRun, currentSuiteRun, currentRuntimes2]\n",
    "  tmp2 = np.stack(tmp2, axis=3).reshape((numberOfSamples, suiteRunsNumber * instanceRunsNumber * numberOfIterations))\n",
    "\n",
    "  # Get median for both lists\n",
    "  med1 = np.median(tmp1, axis=1)\n",
    "  med2 = np.median(tmp2, axis=1)\n",
    "  R = med2/med1\n",
    "  R.sort()\n",
    "\n",
    "  CIsmall = 1 # 99% confidence interval\n",
    "  small = int((numberOfSamples * CIsmall) / 100 / 2)\n",
    "  if small == 0: small = 1\n",
    "  minSmall = R[small-1]\n",
    "  minSmall = (minSmall - 1) * 100\n",
    "  maxSmall = R[numberOfSamples-small-1]\n",
    "  maxSmall = (maxSmall - 1) * 100\n",
    "  instability = maxSmall - minSmall\n",
    "  return minSmall, maxSmall, instability"
   ],
   "metadata": {
    "collapsed": false,
    "pycharm": {
     "name": "#%%\n"
    }
   }
  },
  {
   "cell_type": "code",
   "execution_count": 2,
   "outputs": [],
   "source": [
    "def compareVersionsForBenchmark(fnName: str):\n",
    "    foundBenchmark = df[df[\"package.BenchmarkFunction\"] == fnName]\n",
    "    runtimes1 = foundBenchmark[foundBenchmark[\"Version\"] == 1]\n",
    "    runtimes2 = foundBenchmark[foundBenchmark[\"Version\"] == 2]\n",
    "    assert runtimes1.shape[0] == 45\n",
    "    assert runtimes2.shape[0] == 45\n",
    "    median1 = runtimes1['sec/op'].median()\n",
    "    median2 = runtimes2['sec/op'].median()\n",
    "    change = ((median2/median1) - 1) * 100\n",
    "    minci, maxci, instability = bootstrap(runtimes1, runtimes2)\n",
    "    assert maxci > change\n",
    "    assert change > minci\n",
    "    print(f\"[{fnName}] performance change: {change:.2f}% [{minci:.2f} - {maxci:.2f}] ({instability:.2f}%)\")"
   ],
   "metadata": {
    "collapsed": false,
    "pycharm": {
     "name": "#%%\n"
    }
   }
  },
  {
   "cell_type": "code",
   "execution_count": 3,
   "outputs": [
    {
     "data": {
      "text/plain": "     R-S-I              package.BenchmarkFunction  Version  \\\n0    1-1-1  service.BenchmarkHandlerCreateBooking        2   \n1    1-1-2  service.BenchmarkHandlerCreateBooking        2   \n2    1-1-3  service.BenchmarkHandlerCreateBooking        2   \n3    1-1-4  service.BenchmarkHandlerCreateBooking        2   \n4    1-1-5  service.BenchmarkHandlerCreateBooking        2   \n..     ...                                    ...      ...   \n895  3-3-1      service.BenchmarkHandlerGetFlight        1   \n896  3-3-2      service.BenchmarkHandlerGetFlight        1   \n897  3-3-3      service.BenchmarkHandlerGetFlight        1   \n898  3-3-4      service.BenchmarkHandlerGetFlight        1   \n899  3-3-5      service.BenchmarkHandlerGetFlight        1   \n\n                                Directory  Iterations        sec/op  B/op  \\\n0    pkg/service/service_bookings_test.go       76980  1.511800e-05  5936   \n1    pkg/service/service_bookings_test.go       79185  1.542100e-05  5937   \n2    pkg/service/service_bookings_test.go       81578  1.542900e-05  6245   \n3    pkg/service/service_bookings_test.go       82442  1.516100e-05  6245   \n4    pkg/service/service_bookings_test.go       81948  1.546200e-05  6259   \n..                                    ...         ...           ...   ...   \n895   pkg/service/service_flights_test.go     1000000  1.036000e-06  1587   \n896   pkg/service/service_flights_test.go     1221454  9.818000e-07  1844   \n897   pkg/service/service_flights_test.go     1222510  9.872000e-07  1844   \n898   pkg/service/service_flights_test.go     1220502  1.074000e-06  1846   \n899   pkg/service/service_flights_test.go     1000000  1.009000e-06  1589   \n\n     allocs/op  \n0          124  \n1          124  \n2          124  \n3          124  \n4          124  \n..         ...  \n895         17  \n896         17  \n897         17  \n898         17  \n899         17  \n\n[900 rows x 8 columns]",
      "text/html": "<div>\n<style scoped>\n    .dataframe tbody tr th:only-of-type {\n        vertical-align: middle;\n    }\n\n    .dataframe tbody tr th {\n        vertical-align: top;\n    }\n\n    .dataframe thead th {\n        text-align: right;\n    }\n</style>\n<table border=\"1\" class=\"dataframe\">\n  <thead>\n    <tr style=\"text-align: right;\">\n      <th></th>\n      <th>R-S-I</th>\n      <th>package.BenchmarkFunction</th>\n      <th>Version</th>\n      <th>Directory</th>\n      <th>Iterations</th>\n      <th>sec/op</th>\n      <th>B/op</th>\n      <th>allocs/op</th>\n    </tr>\n  </thead>\n  <tbody>\n    <tr>\n      <th>0</th>\n      <td>1-1-1</td>\n      <td>service.BenchmarkHandlerCreateBooking</td>\n      <td>2</td>\n      <td>pkg/service/service_bookings_test.go</td>\n      <td>76980</td>\n      <td>1.511800e-05</td>\n      <td>5936</td>\n      <td>124</td>\n    </tr>\n    <tr>\n      <th>1</th>\n      <td>1-1-2</td>\n      <td>service.BenchmarkHandlerCreateBooking</td>\n      <td>2</td>\n      <td>pkg/service/service_bookings_test.go</td>\n      <td>79185</td>\n      <td>1.542100e-05</td>\n      <td>5937</td>\n      <td>124</td>\n    </tr>\n    <tr>\n      <th>2</th>\n      <td>1-1-3</td>\n      <td>service.BenchmarkHandlerCreateBooking</td>\n      <td>2</td>\n      <td>pkg/service/service_bookings_test.go</td>\n      <td>81578</td>\n      <td>1.542900e-05</td>\n      <td>6245</td>\n      <td>124</td>\n    </tr>\n    <tr>\n      <th>3</th>\n      <td>1-1-4</td>\n      <td>service.BenchmarkHandlerCreateBooking</td>\n      <td>2</td>\n      <td>pkg/service/service_bookings_test.go</td>\n      <td>82442</td>\n      <td>1.516100e-05</td>\n      <td>6245</td>\n      <td>124</td>\n    </tr>\n    <tr>\n      <th>4</th>\n      <td>1-1-5</td>\n      <td>service.BenchmarkHandlerCreateBooking</td>\n      <td>2</td>\n      <td>pkg/service/service_bookings_test.go</td>\n      <td>81948</td>\n      <td>1.546200e-05</td>\n      <td>6259</td>\n      <td>124</td>\n    </tr>\n    <tr>\n      <th>...</th>\n      <td>...</td>\n      <td>...</td>\n      <td>...</td>\n      <td>...</td>\n      <td>...</td>\n      <td>...</td>\n      <td>...</td>\n      <td>...</td>\n    </tr>\n    <tr>\n      <th>895</th>\n      <td>3-3-1</td>\n      <td>service.BenchmarkHandlerGetFlight</td>\n      <td>1</td>\n      <td>pkg/service/service_flights_test.go</td>\n      <td>1000000</td>\n      <td>1.036000e-06</td>\n      <td>1587</td>\n      <td>17</td>\n    </tr>\n    <tr>\n      <th>896</th>\n      <td>3-3-2</td>\n      <td>service.BenchmarkHandlerGetFlight</td>\n      <td>1</td>\n      <td>pkg/service/service_flights_test.go</td>\n      <td>1221454</td>\n      <td>9.818000e-07</td>\n      <td>1844</td>\n      <td>17</td>\n    </tr>\n    <tr>\n      <th>897</th>\n      <td>3-3-3</td>\n      <td>service.BenchmarkHandlerGetFlight</td>\n      <td>1</td>\n      <td>pkg/service/service_flights_test.go</td>\n      <td>1222510</td>\n      <td>9.872000e-07</td>\n      <td>1844</td>\n      <td>17</td>\n    </tr>\n    <tr>\n      <th>898</th>\n      <td>3-3-4</td>\n      <td>service.BenchmarkHandlerGetFlight</td>\n      <td>1</td>\n      <td>pkg/service/service_flights_test.go</td>\n      <td>1220502</td>\n      <td>1.074000e-06</td>\n      <td>1846</td>\n      <td>17</td>\n    </tr>\n    <tr>\n      <th>899</th>\n      <td>3-3-5</td>\n      <td>service.BenchmarkHandlerGetFlight</td>\n      <td>1</td>\n      <td>pkg/service/service_flights_test.go</td>\n      <td>1000000</td>\n      <td>1.009000e-06</td>\n      <td>1589</td>\n      <td>17</td>\n    </tr>\n  </tbody>\n</table>\n<p>900 rows × 8 columns</p>\n</div>"
     },
     "execution_count": 3,
     "metadata": {},
     "output_type": "execute_result"
    }
   ],
   "source": [
    "df = pd.read_csv(\"../results.csv\", names=[\"R-S-I\", \"package.BenchmarkFunction\", \"Version\", \"Directory\", \"Iterations\", \"sec/op\", \"B/op\", \"allocs/op\"])\n",
    "\n",
    "df"
   ],
   "metadata": {
    "collapsed": false,
    "pycharm": {
     "name": "#%%\n"
    }
   }
  },
  {
   "cell_type": "markdown",
   "source": [],
   "metadata": {
    "collapsed": false,
    "pycharm": {
     "name": "#%% md\n"
    }
   }
  },
  {
   "cell_type": "code",
   "execution_count": 4,
   "outputs": [
    {
     "name": "stdout",
     "output_type": "stream",
     "text": [
      "[service.BenchmarkHandlerCreateBooking] performance change: 0.26% [-1.94 - 1.28] (3.22%)\n",
      "[service.BenchmarkHandlerGetDestinations] performance change: 0.03% [-2.38 - 0.32] (2.70%)\n",
      "[service.BenchmarkHandlerGetFlight] performance change: 0.30% [-1.17 - 6.17] (7.34%)\n",
      "[service.BenchmarkHandlerGetFlightsQuery] performance change: 0.14% [-2.37 - 0.58] (2.94%)\n",
      "[service.BenchmarkFlights] performance change: 1629.59% [1584.41 - 1647.99] (63.59%)\n",
      "[service.BenchmarkHandlerGetFlights] performance change: -0.89% [-4.59 - 1.37] (5.96%)\n",
      "[service.BenchmarkFlight] performance change: 56317.82% [54848.88 - 57014.92] (2166.05%)\n",
      "[service.BenchmarkSeats] performance change: 406.96% [393.32 - 411.45] (18.12%)\n",
      "[service.BenchmarkHandlerGetFlightSeats] performance change: 0.32% [-0.45 - 2.08] (2.52%)\n",
      "[service.BenchmarkHandlerGetBookings] performance change: 0.36% [-1.71 - 1.80] (3.51%)\n"
     ]
    }
   ],
   "source": [
    "for fnName in df[\"package.BenchmarkFunction\"].unique():\n",
    "    compareVersionsForBenchmark(fnName)"
   ],
   "metadata": {
    "collapsed": false,
    "pycharm": {
     "name": "#%%\n"
    }
   }
  },
  {
   "cell_type": "code",
   "execution_count": 4,
   "outputs": [],
   "source": [],
   "metadata": {
    "collapsed": false,
    "pycharm": {
     "name": "#%%\n"
    }
   }
  },
  {
   "cell_type": "code",
   "execution_count": 5,
   "outputs": [
    {
     "name": "stdout",
     "output_type": "stream",
     "text": [
      "[main.BenchmarkValidateOrderNumber] performance change: -90.36% [-90.46 - -90.15] (0.30%)\n"
     ]
    }
   ],
   "source": [
    "compareVersionsForBenchmark(\"main.BenchmarkValidateOrderNumber\")"
   ],
   "metadata": {
    "collapsed": false,
    "pycharm": {
     "name": "#%%\n"
    }
   }
  },
  {
   "cell_type": "code",
   "execution_count": null,
   "outputs": [],
   "source": [],
   "metadata": {
    "collapsed": false,
    "pycharm": {
     "name": "#%%\n"
    }
   }
  }
 ],
 "metadata": {
  "kernelspec": {
   "display_name": "Python 3 (ipykernel)",
   "language": "python",
   "name": "python3"
  },
  "language_info": {
   "codemirror_mode": {
    "name": "ipython",
    "version": 3
   },
   "file_extension": ".py",
   "mimetype": "text/x-python",
   "name": "python",
   "nbconvert_exporter": "python",
   "pygments_lexer": "ipython3",
   "version": "3.9.13"
  }
 },
 "nbformat": 4,
 "nbformat_minor": 5
}